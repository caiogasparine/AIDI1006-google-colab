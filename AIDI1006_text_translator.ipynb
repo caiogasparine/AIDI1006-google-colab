{
  "nbformat": 4,
  "nbformat_minor": 0,
  "metadata": {
    "colab": {
      "provenance": [],
      "authorship_tag": "ABX9TyO2fkxs04YnQb/bNfgRJNBu",
      "include_colab_link": true
    },
    "kernelspec": {
      "name": "python3",
      "display_name": "Python 3"
    },
    "language_info": {
      "name": "python"
    }
  },
  "cells": [
    {
      "cell_type": "markdown",
      "metadata": {
        "id": "view-in-github",
        "colab_type": "text"
      },
      "source": [
        "<a href=\"https://colab.research.google.com/github/caiogasparine/AIDI1006-google-colab/blob/main/AIDI1006_text_translator.ipynb\" target=\"_parent\"><img src=\"https://colab.research.google.com/assets/colab-badge.svg\" alt=\"Open In Colab\"/></a>"
      ]
    },
    {
      "cell_type": "code",
      "execution_count": 1,
      "metadata": {
        "colab": {
          "base_uri": "https://localhost:8080/"
        },
        "id": "iJSh2fM6tatK",
        "outputId": "cee6f04e-2516-436e-b916-bd4e8fbcc1a9"
      },
      "outputs": [
        {
          "output_type": "stream",
          "name": "stdout",
          "text": [
            "[\n",
            "    {\n",
            "        \"translations\": [\n",
            "            {\n",
            "                \"text\": \"Englische Texte für Anfänger, um das Lesen und Verstehen online und kostenlos zu üben. Das Üben Ihres Verständnisses von geschriebenem Englisch verbessert sowohl Ihren Wortschatz als auch Ihr Verständnis von Grammatik und Wortstellung. Die folgenden Texte sollen Ihnen helfen, sich weiterzuentwickeln und Ihnen eine sofortige Einschätzung Ihres Fortschritts zu geben.\",\n",
            "                \"to\": \"de\"\n",
            "            },\n",
            "            {\n",
            "                \"text\": \"Testi in inglese per principianti per praticare la lettura e la comprensione online e gratuitamente. Praticare la comprensione dell'inglese scritto migliorerà sia il vocabolario che la comprensione della grammatica e dell'ordine delle parole. I testi qui sotto sono progettati per aiutarti a sviluppare mentre ti danno una valutazione istantanea dei tuoi progressi.\",\n",
            "                \"to\": \"it\"\n",
            "            },\n",
            "            {\n",
            "                \"text\": \"Textos em inglês para iniciantes praticarem a leitura e compreensão online e gratuitamente. Praticar sua compreensão do inglês escrito melhorará seu vocabulário e compreensão da gramática e da ordem das palavras. Os textos abaixo são projetados para ajudá-lo a se desenvolver, dando-lhe uma avaliação instantânea de seu progresso.\",\n",
            "                \"to\": \"pt\"\n",
            "            }\n",
            "        ]\n",
            "    }\n",
            "]\n"
          ]
        }
      ],
      "source": [
        "# This code is using Azure TranslatorAPI\n",
        "\n",
        "import requests, uuid, json\n",
        "\n",
        "# Add your subscription key and endpoint\n",
        "subscription_key = \"ac724ad26c6c4a5eb1b841380fafffd4\"\n",
        "endpoint = \"https://api.cognitive.microsofttranslator.com/\"\n",
        "\n",
        "# Add your location, also known as region. The default is global.\n",
        "# This is required if using a Cognitive Services resource.\n",
        "location = \"eastus\"\n",
        "\n",
        "path = '/translate'\n",
        "constructed_url = endpoint + path\n",
        "\n",
        "params = {\n",
        "    'api-version': '3.0',\n",
        "    'from': 'en',\n",
        "    'to': ['de', 'it', 'pt']\n",
        "}\n",
        "constructed_url = endpoint + path\n",
        "\n",
        "headers = {\n",
        "    'Ocp-Apim-Subscription-Key': subscription_key,\n",
        "    'Ocp-Apim-Subscription-Region': location,\n",
        "    'Content-type': 'application/json',\n",
        "    'X-ClientTraceId': str(uuid.uuid4())\n",
        "}\n",
        "\n",
        "# You can pass more than one object in body.\n",
        "body = [{\n",
        "    'text': 'English texts for beginners to practice reading and comprehension online and for free. Practicing your comprehension of written English will both improve your vocabulary and understanding of grammar and word order. The texts below are designed to help you develop while giving you an instant evaluation of your progress.'\n",
        "}]\n",
        "\n",
        "request = requests.post(constructed_url, params=params, headers=headers, json=body)\n",
        "response = request.json()\n",
        "\n",
        "print(json.dumps(response, sort_keys=True, ensure_ascii=False, indent=4, separators=(',', ': ')))"
      ]
    }
  ]
}